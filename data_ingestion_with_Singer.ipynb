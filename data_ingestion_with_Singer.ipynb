{
  "nbformat": 4,
  "nbformat_minor": 0,
  "metadata": {
    "colab": {
      "name": "data_ingestion_with_Singer.ipynb",
      "provenance": [],
      "authorship_tag": "ABX9TyOPeLD5MS+wrRbJ07NglKVk",
      "include_colab_link": true
    },
    "kernelspec": {
      "name": "python3",
      "display_name": "Python 3"
    }
  },
  "cells": [
    {
      "cell_type": "markdown",
      "metadata": {
        "id": "view-in-github",
        "colab_type": "text"
      },
      "source": [
        "<a href=\"https://colab.research.google.com/github/SurajKande/Pipelining/blob/master/data_ingestion_with_Singer.ipynb\" target=\"_parent\"><img src=\"https://colab.research.google.com/assets/colab-badge.svg\" alt=\"Open In Colab\"/></a>"
      ]
    },
    {
      "cell_type": "markdown",
      "metadata": {
        "id": "EpSTEzuFxwax",
        "colab_type": "text"
      },
      "source": [
        "* Singer is a open source library which connect with many data sources.\n",
        "\n",
        "* \"The open source standard for writing scripts that move data\"\n",
        "\n",
        "\n",
        "* At its core, Singer is a specification that describes how data extraction scripts and data loading scripts should communicate over standard json based data  format... (i.e)... data exchange format is json. \n",
        "  \n",
        "  - exctraction scripts are called \" taps \"\n",
        "  - loading scripts are called \" targets \" \n",
        "  - both of them are language independent. \n",
        "\n",
        "  - taps and targets communicate using 3 types of messages :\n",
        "\n",
        "    1. schema { metadata }   ----- should be given as valid JSON schema\n",
        "\n",
        "    2. state  { process metadata }\n",
        "\n",
        "    3. record { data }\n",
        "\n",
        "     *  these messages are sent into and are read from streams.  \n",
        "\n",
        "\n",
        "  - A stream is a virtual location to which we can send messages and data that can be picked up at downstream location. \n",
        "\n",
        "    * we can use different streams for different types of data for different topics for example :\n",
        "      \n",
        "       * error messages will go into error stream,\n",
        "       * data of products of type 1 will go into stream 1,\n",
        "       * data of products of type 2 will go into stream 2 etc.   \n",
        "    \n",
        "\n",
        "* suppose we have a data to process\n",
        "  1. create it's schema in json format\n",
        "  2. call write_schema function of Singer to create a SCHEMA message of the data by passing json_schema defined earlier and stream name to which stream it belongs to i.e if type 1 then it belongs to steam 1 and so on.  "
      ]
    },
    {
      "cell_type": "code",
      "metadata": {
        "id": "12Ds_Y3h9IB1",
        "colab_type": "code",
        "colab": {
          "base_uri": "https://localhost:8080/",
          "height": 34
        },
        "outputId": "92b2c21a-c152-4408-ab47-b79f782f45de"
      },
      "source": [
        "# to connect gdrive to colab for importing dataset\n",
        "from google.colab import drive\n",
        "drive.mount('/content/gdrive', force_remount = True)"
      ],
      "execution_count": 2,
      "outputs": [
        {
          "output_type": "stream",
          "text": [
            "Mounted at /content/gdrive\n"
          ],
          "name": "stdout"
        }
      ]
    },
    {
      "cell_type": "code",
      "metadata": {
        "id": "BKT1Jt_IqPVQ",
        "colab_type": "code",
        "colab": {}
      },
      "source": [
        "# writing details of a database to a JSON file\n",
        "import json\n",
        "\n",
        "database_address = {\n",
        "  \"host\": \"10.0.0.5\",\n",
        "  \"port\": 8456\n",
        "}\n",
        "\n",
        "# Open the configuration file in writable mode\n",
        "with open(\"/content/gdrive/My Drive/learning/database_config.json\", \"w\") as fh:\n",
        "  # Serialize the object in this file handle\n",
        "  json.dump(obj=database_address, fp=fh)"
      ],
      "execution_count": 0,
      "outputs": []
    },
    {
      "cell_type": "code",
      "metadata": {
        "id": "5XCqaupd99fa",
        "colab_type": "code",
        "colab": {}
      },
      "source": [
        "!pip install singer-python"
      ],
      "execution_count": 0,
      "outputs": []
    },
    {
      "cell_type": "code",
      "metadata": {
        "id": "Zt5T0IP1ALEa",
        "colab_type": "code",
        "colab": {}
      },
      "source": [
        "'''\n",
        "the products have an identical schema, regardless of the store.\n",
        "    to export the different products in a standardized way. To do so, you will need to associate a schema with the actual data.'''\n",
        "\n",
        "# Specifying the schema of the data\n",
        "'''\n",
        "{'items': [{'brand': 'Huggies',\n",
        "            'model': 'newborn',\n",
        "            'price': 6.8,\n",
        "            'currency': 'EUR',            \n",
        "            'quantity': 40,\n",
        "            'date': '2019-02-01',\n",
        "            'countrycode': 'DE'            \n",
        "            }]\n",
        "}\n",
        "'''"
      ],
      "execution_count": 0,
      "outputs": []
    },
    {
      "cell_type": "code",
      "metadata": {
        "id": "db1bcAvrx-MS",
        "colab_type": "code",
        "colab": {
          "base_uri": "https://localhost:8080/",
          "height": 54
        },
        "outputId": "81ccc661-91d1-45a0-874f-61e9065a0eef"
      },
      "source": [
        "\n",
        "import singer\n",
        "# creating the JSON schema\n",
        "items_schema = {'properties': {\n",
        "    'brand': {'type': 'string'},\n",
        "    'model': {'type': 'string'},\n",
        "    'price': {'type': 'number'},\n",
        "    'currency': {'type': 'string'},\n",
        "    'quantity': {'type': 'number', 'minimum': 1},  \n",
        "    'date': {'type': 'string', 'format': 'date'},\n",
        "    'countrycode': {'type': 'string', 'pattern': \"^[A-Z]{2}$\"}, \n",
        "    'store_name': {'type': 'string'}}}\n",
        "\n",
        "# Write the schema\n",
        "singer.write_schema(stream_name='products', schema=items_schema, key_properties=[])"
      ],
      "execution_count": 3,
      "outputs": [
        {
          "output_type": "stream",
          "text": [
            "{\"type\": \"SCHEMA\", \"stream\": \"products\", \"schema\": {\"properties\": {\"brand\": {\"type\": \"string\"}, \"model\": {\"type\": \"string\"}, \"price\": {\"type\": \"number\"}, \"currency\": {\"type\": \"string\"}, \"quantity\": {\"type\": \"number\", \"minimum\": 1}, \"date\": {\"type\": \"string\", \"format\": \"date\"}, \"countrycode\": {\"type\": \"string\", \"pattern\": \"^[A-Z]{2}$\"}, \"store_name\": {\"type\": \"string\"}}}, \"key_properties\": []}\n"
          ],
          "name": "stdout"
        }
      ]
    },
    {
      "cell_type": "code",
      "metadata": {
        "id": "eXqnmJV5IUxW",
        "colab_type": "code",
        "colab": {}
      },
      "source": [
        ""
      ],
      "execution_count": 0,
      "outputs": []
    }
  ]
}