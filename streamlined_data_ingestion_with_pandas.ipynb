{
  "nbformat": 4,
  "nbformat_minor": 0,
  "metadata": {
    "colab": {
      "name": "streamlined_data_ingestion_with_pandas.ipynb",
      "provenance": [],
      "authorship_tag": "ABX9TyM0byldj3rfch8bGXHgh1cg",
      "include_colab_link": true
    },
    "kernelspec": {
      "name": "python3",
      "display_name": "Python 3"
    }
  },
  "cells": [
    {
      "cell_type": "markdown",
      "metadata": {
        "id": "view-in-github",
        "colab_type": "text"
      },
      "source": [
        "<a href=\"https://colab.research.google.com/github/SurajKande/Pipelining/blob/master/streamlined_data_ingestion_with_pandas.ipynb\" target=\"_parent\"><img src=\"https://colab.research.google.com/assets/colab-badge.svg\" alt=\"Open In Colab\"/></a>"
      ]
    },
    {
      "cell_type": "markdown",
      "metadata": {
        "id": "q_bgGGh5u-hY",
        "colab_type": "text"
      },
      "source": [
        "## Importing Data from Flat Files\n"
      ]
    },
    {
      "cell_type": "code",
      "metadata": {
        "id": "JybSJ-y7uzXd",
        "colab_type": "code",
        "colab": {}
      },
      "source": [
        "# to connect gdrive to colab for importing dataset\n",
        "from google.colab import drive\n",
        "drive.mount('/content/gdrive', force_remount = True)"
      ],
      "execution_count": 0,
      "outputs": []
    },
    {
      "cell_type": "code",
      "metadata": {
        "id": "Fug9hAhOvcyf",
        "colab_type": "code",
        "outputId": "2c3ce14b-35b0-42ae-d54d-25f0d1cb96cf",
        "colab": {
          "base_uri": "https://localhost:8080/",
          "height": 151
        }
      },
      "source": [
        "# Get data from CSVs\n",
        "\n",
        "import pandas as pd\n",
        "\n",
        "# Reading the CSV file data into dataframe\n",
        "tax_data = pd.read_csv(\"/content/gdrive/My Drive/datasets/vt_tax_data_2016.csv\")\n",
        "\n",
        "print(tax_data.head())"
      ],
      "execution_count": 0,
      "outputs": [
        {
          "output_type": "stream",
          "text": [
            "   STATEFIPS STATE  zipcode  agi_stub  ...  N11901  A11901  N11902  A11902\n",
            "0         50    VT        0         1  ...   10820    9734   88260  138337\n",
            "1         50    VT        0         2  ...   12820   20029   68760  151729\n",
            "2         50    VT        0         3  ...   10810   24499   34600   90583\n",
            "3         50    VT        0         4  ...    7320   21573   21300   67045\n",
            "4         50    VT        0         5  ...   12500   67761   23320  103034\n",
            "\n",
            "[5 rows x 147 columns]\n"
          ],
          "name": "stdout"
        }
      ]
    },
    {
      "cell_type": "code",
      "metadata": {
        "id": "0kw2O5SJvybv",
        "colab_type": "code",
        "colab": {}
      },
      "source": [
        "# Get data from TSVs\n",
        "tax_data_tsv = pd.read_csv(\"/content/gdrive/My Drive/datasets/vt_tax_data_2016_1.tsv\", sep =\"\\t\")"
      ],
      "execution_count": 0,
      "outputs": []
    },
    {
      "cell_type": "code",
      "metadata": {
        "id": "bsxSgh-RxCvO",
        "colab_type": "code",
        "outputId": "ccaf4587-7454-4054-892c-c00b8abbe8a2",
        "colab": {
          "base_uri": "https://localhost:8080/",
          "height": 277
        }
      },
      "source": [
        "import matplotlib.pyplot as plt\n",
        "\n",
        "# Plot the total number of tax returns by income group\n",
        "counts = tax_data.groupby(\"agi_stub\").N1.sum()\n",
        "counts.plot.bar()\n",
        "plt.show()"
      ],
      "execution_count": 0,
      "outputs": [
        {
          "output_type": "display_data",
          "data": {
            "image/png": "[encoded data removed]",
            "text/plain": [
              "<Figure size 432x288 with 1 Axes>"
            ]
          },
          "metadata": {
            "tags": [],
            "needs_background": "light"
          }
        }
      ]
    },
    {
      "cell_type": "code",
      "metadata": {
        "id": "NnM4Pf9TyGBh",
        "colab_type": "code",
        "outputId": "7e4f5255-3b8f-4023-f4de-42534e0392d3",
        "colab": {
          "base_uri": "https://localhost:8080/",
          "height": 118
        }
      },
      "source": [
        "# Import a subset of columns\n",
        "\n",
        "column_names = ['zipcode','agi_stub','mars1','MARS2','NUMDEP']\n",
        "\n",
        "# Create data frame from csv using only selected columns\n",
        "tax_data_selected_columns = pd.read_csv(\"/content/gdrive/My Drive/datasets/vt_tax_data_2016.csv\", usecols = column_names)\n",
        "\n",
        "print(tax_data_selected_columns.head())"
      ],
      "execution_count": 0,
      "outputs": [
        {
          "output_type": "stream",
          "text": [
            "   zipcode  agi_stub  mars1  MARS2  NUMDEP\n",
            "0        0         1  85090  14170   26200\n",
            "1        0         2  51960  18820   32310\n",
            "2        0         3  19540  22650   23610\n",
            "3        0         4   5830  22190   18860\n",
            "4        0         5   3900  33800   30330\n"
          ],
          "name": "stdout"
        }
      ]
    },
    {
      "cell_type": "code",
      "metadata": {
        "id": "4GedY_pvzKPR",
        "colab_type": "code",
        "outputId": "799a4ee4-c03c-4d4e-e469-357181f3fd26",
        "colab": {
          "base_uri": "https://localhost:8080/",
          "height": 168
        }
      },
      "source": [
        "# Import a file in chunks\n",
        "\n",
        "tax_data_first500_entries = pd.read_csv(\"/content/gdrive/My Drive/datasets/vt_tax_data_2016.csv\", nrows=500)\n",
        "\n",
        "print(tax_data_first500_entries.shape)\n",
        "\n",
        "print(tax_data_first500_entries.head())"
      ],
      "execution_count": 0,
      "outputs": [
        {
          "output_type": "stream",
          "text": [
            "(500, 147)\n",
            "   STATEFIPS STATE  zipcode  agi_stub  ...  N11901  A11901  N11902  A11902\n",
            "0         50    VT        0         1  ...   10820    9734   88260  138337\n",
            "1         50    VT        0         2  ...   12820   20029   68760  151729\n",
            "2         50    VT        0         3  ...   10810   24499   34600   90583\n",
            "3         50    VT        0         4  ...    7320   21573   21300   67045\n",
            "4         50    VT        0         5  ...   12500   67761   23320  103034\n",
            "\n",
            "[5 rows x 147 columns]\n"
          ],
          "name": "stdout"
        }
      ]
    },
    {
      "cell_type": "code",
      "metadata": {
        "id": "SbC-w5kM0UbW",
        "colab_type": "code",
        "outputId": "c0867c0b-a8d2-492e-affe-8d0bf066f702",
        "colab": {
          "base_uri": "https://localhost:8080/",
          "height": 168
        }
      },
      "source": [
        "tax_data_next500_entries = pd.read_csv(\"/content/gdrive/My Drive/datasets/vt_tax_data_2016.csv\", skiprows=500, nrows=500, header=None, names=list(tax_data_first500_entries))\n",
        "\n",
        "print(tax_data_next500_entries.shape)\n",
        "\n",
        "print(tax_data_next500_entries.head())"
      ],
      "execution_count": 0,
      "outputs": [
        {
          "output_type": "stream",
          "text": [
            "(500, 147)\n",
            "   STATEFIPS STATE  zipcode  agi_stub  ...  N11901  A11901  N11902  A11902\n",
            "0         50    VT     5356         2  ...      50      76     130     212\n",
            "1         50    VT     5356         3  ...      40     142      50     148\n",
            "2         50    VT     5356         4  ...       0       0      30      87\n",
            "3         50    VT     5356         5  ...      30     531      30     246\n",
            "4         50    VT     5356         6  ...       0       0       0       0\n",
            "\n",
            "[5 rows x 147 columns]\n"
          ],
          "name": "stdout"
        }
      ]
    },
    {
      "cell_type": "code",
      "metadata": {
        "id": "k-xHCOzQ0tT5",
        "colab_type": "code",
        "outputId": "744f4ad2-03e6-459a-e63a-5ef316ec23e2",
        "colab": {
          "base_uri": "https://localhost:8080/",
          "height": 218
        }
      },
      "source": [
        "# Specify data types when loading a flat file \n",
        "\n",
        "tax_data.dtypes"
      ],
      "execution_count": 0,
      "outputs": [
        {
          "output_type": "execute_result",
          "data": {
            "text/plain": [
              "STATEFIPS     int64\n",
              "STATE        object\n",
              "zipcode       int64\n",
              "agi_stub      int64\n",
              "N1            int64\n",
              "              ...  \n",
              "A85300        int64\n",
              "N11901        int64\n",
              "A11901        int64\n",
              "N11902        int64\n",
              "A11902        int64\n",
              "Length: 147, dtype: object"
            ]
          },
          "metadata": {
            "tags": []
          },
          "execution_count": 26
        }
      ]
    },
    {
      "cell_type": "code",
      "metadata": {
        "id": "oxd0hPQs7Nq0",
        "colab_type": "code",
        "outputId": "9a702f01-f05d-4844-c4ef-1d0566828afc",
        "colab": {
          "base_uri": "https://localhost:8080/",
          "height": 218
        }
      },
      "source": [
        "  ## change the type of zipcodes to string and agi_stub to category\n",
        "data_types = {\"agi_stub\": \"category\", \"zipcode\": str}\n",
        "\n",
        "tax_data = pd.read_csv(\"/content/gdrive/My Drive/datasets/vt_tax_data_2016.csv\", dtype=data_types)\n",
        "\n",
        "tax_data.dtypes    "
      ],
      "execution_count": 0,
      "outputs": [
        {
          "output_type": "execute_result",
          "data": {
            "text/plain": [
              "STATEFIPS       int64\n",
              "STATE          object\n",
              "zipcode        object\n",
              "agi_stub     category\n",
              "N1              int64\n",
              "               ...   \n",
              "A85300          int64\n",
              "N11901          int64\n",
              "A11901          int64\n",
              "N11902          int64\n",
              "A11902          int64\n",
              "Length: 147, dtype: object"
            ]
          },
          "metadata": {
            "tags": []
          },
          "execution_count": 28
        }
      ]
    },
    {
      "cell_type": "code",
      "metadata": {
        "id": "5o2u2tad79bU",
        "colab_type": "code",
        "outputId": "4c04c82a-0f25-4c51-d9c9-84dcacc4ed74",
        "colab": {
          "base_uri": "https://localhost:8080/",
          "height": 121
        }
      },
      "source": [
        "# Set custom NA values\n",
        " print(tax_data[tax_data.zipcode.isna()])"
      ],
      "execution_count": 0,
      "outputs": [
        {
          "output_type": "stream",
          "text": [
            "Empty DataFrame\n",
            "Columns: [STATEFIPS, STATE, zipcode, agi_stub, N1, mars1, MARS2, MARS4, PREP, N2, NUMDEP, TOTAL_VITA, VITA, TCE, VITA_EIC, RAL, RAC, ELDERLY, A00100, N02650, A02650, N00200, A00200, N00300, A00300, N00600, A00600, N00650, A00650, N00700, A00700, N00900, A00900, N01000, A01000, N01400, A01400, N01700, A01700, SCHF, N02300, A02300, N02500, A02500, N26270, A26270, N02900, A02900, N03220, A03220, N03300, A03300, N03270, A03270, N03150, A03150, N03210, A03210, N03230, A03230, N03240, A03240, N04470, A04470, A00101, N17000, A17000, N18425, A18425, N18450, A18450, N18500, A18500, N18800, A18800, N18300, A18300, N19300, A19300, N19500, A19500, N19530, A19530, N19550, A19550, N19570, A19570, N19700, A19700, N20800, A20800, n21020, a21020, N04800, A04800, N05800, A05800, N09600, A09600, N05780, ...]\n",
            "Index: []\n",
            "\n",
            "[0 rows x 147 columns]\n"
          ],
          "name": "stdout"
        }
      ]
    },
    {
      "cell_type": "code",
      "metadata": {
        "id": "y-Rw8hyS8XCt",
        "colab_type": "code",
        "outputId": "16babb3d-ac7a-4813-cf97-425a74da2b8a",
        "colab": {
          "base_uri": "https://localhost:8080/",
          "height": 168
        }
      },
      "source": [
        "null_values = {'zipcode':0 }    # zipcode 0 is not possible\n",
        "\n",
        "tax_data = pd.read_csv(\"/content/gdrive/My Drive/datasets/vt_tax_data_2016.csv\", na_values=null_values)\n",
        "\n",
        "print(tax_data[tax_data.zipcode.isna()])"
      ],
      "execution_count": 0,
      "outputs": [
        {
          "output_type": "stream",
          "text": [
            "   STATEFIPS STATE  zipcode  agi_stub  ...  N11901  A11901  N11902  A11902\n",
            "0         50    VT      NaN         1  ...   10820    9734   88260  138337\n",
            "1         50    VT      NaN         2  ...   12820   20029   68760  151729\n",
            "2         50    VT      NaN         3  ...   10810   24499   34600   90583\n",
            "3         50    VT      NaN         4  ...    7320   21573   21300   67045\n",
            "4         50    VT      NaN         5  ...   12500   67761   23320  103034\n",
            "5         50    VT      NaN         6  ...    3900   93123    2870   39425\n",
            "\n",
            "[6 rows x 147 columns]\n"
          ],
          "name": "stdout"
        }
      ]
    },
    {
      "cell_type": "code",
      "metadata": {
        "id": "MHlu1IUW9TrT",
        "colab_type": "code",
        "colab": {}
      },
      "source": [
        ""
      ],
      "execution_count": 0,
      "outputs": []
    },
    {
      "cell_type": "markdown",
      "metadata": {
        "id": "qnpJxxYt9caM",
        "colab_type": "text"
      },
      "source": [
        "# Importing Data from spread sheets"
      ]
    },
    {
      "cell_type": "code",
      "metadata": {
        "id": "hxZm7wjl9ktg",
        "colab_type": "code",
        "outputId": "9127c901-087e-4448-bff4-05d067aac78a",
        "colab": {
          "base_uri": "https://localhost:8080/",
          "height": 151
        }
      },
      "source": [
        "# Load pandas as pd\n",
        "import pandas as pd\n",
        "\n",
        "# Read spreadsheet\n",
        "survey_responses = pd.read_excel(\"/content/gdrive/My Drive/datasets/fcc-new-coder-survey.xlsx\")\n",
        "\n",
        "print(survey_responses.head())"
      ],
      "execution_count": 0,
      "outputs": [
        {
          "output_type": "stream",
          "text": [
            "    Age  AttendedBootcamp  ...              SchoolMajor  StudentDebtOwe\n",
            "0  28.0               0.0  ...                      NaN           20000\n",
            "1  22.0               0.0  ...                      NaN             NaN\n",
            "2  19.0               0.0  ...                      NaN             NaN\n",
            "3  26.0               0.0  ...  Cinematography And Film            7000\n",
            "4  20.0               0.0  ...                      NaN             NaN\n",
            "\n",
            "[5 rows x 98 columns]\n"
          ],
          "name": "stdout"
        }
      ]
    },
    {
      "cell_type": "code",
      "metadata": {
        "id": "XuFOkpWO-fo6",
        "colab_type": "code",
        "outputId": "4626fe47-d195-428c-dd34-0d919fc8aa53",
        "colab": {
          "base_uri": "https://localhost:8080/",
          "height": 67
        }
      },
      "source": [
        "# Load a portion of a spreadsheet\n",
        "\n",
        "# Create string of lettered columns to load\n",
        "col_string = \"AD,AW:BA\"\n",
        "\n",
        "survey_responses = pd.read_excel(\"/content/gdrive/My Drive/datasets/fcc-new-coder-survey.xlsx\", usecols=col_string)\n",
        "\n",
        "print(survey_responses.columns)"
      ],
      "execution_count": 0,
      "outputs": [
        {
          "output_type": "stream",
          "text": [
            "Index(['ExpectedEarning', 'JobApplyWhen', 'JobPref', 'JobRelocateYesNo',\n",
            "       'JobRoleInterest', 'JobWherePref'],\n",
            "      dtype='object')\n"
          ],
          "name": "stdout"
        }
      ]
    },
    {
      "cell_type": "code",
      "metadata": {
        "id": "lhSibTR-CzUL",
        "colab_type": "code",
        "colab": {}
      },
      "source": [
        "# Select a single sheet\n",
        "\n",
        "# Create dataframe from second worksheet by referencing its position\n",
        "survey_responses_2017 = pd.read_excel(\"/content/gdrive/My Drive/datasets/fcc-new-coder-survey.xlsx\",sheet_name=1)"
      ],
      "execution_count": 0,
      "outputs": []
    },
    {
      "cell_type": "code",
      "metadata": {
        "id": "sRROaarOnyuY",
        "colab_type": "code",
        "colab": {}
      },
      "source": [
        "# Create dataframe from second worksheet by referencing its name\n",
        "survey_responses_2017 = pd.read_excel(\"/content/gdrive/My Drive/datasets/fcc-new-coder-survey.xlsx\",sheet_name='2017')"
      ],
      "execution_count": 0,
      "outputs": []
    },
    {
      "cell_type": "code",
      "metadata": {
        "id": "tyz0-q2dqx0K",
        "colab_type": "code",
        "colab": {}
      },
      "source": [
        "# Load all sheets in the Excel file\n",
        "all_survey_data = pd.read_excel(\"/content/gdrive/My Drive/datasets/fcc-new-coder-survey.xlsx\", sheet_name=None)"
      ],
      "execution_count": 0,
      "outputs": []
    },
    {
      "cell_type": "code",
      "metadata": {
        "id": "YcCEa9EYq48u",
        "colab_type": "code",
        "outputId": "06594f3a-4975-4789-ffef-0ba988ae2dae",
        "colab": {
          "base_uri": "https://localhost:8080/",
          "height": 118
        }
      },
      "source": [
        "# Load file, with Part1StartTime parsed as datetime data\n",
        "survey_data = pd.read_excel(\"/content/gdrive/My Drive/datasets/fcc-new-coder-survey.xlsx\", parse_dates=['Part1StartTime'])\n",
        "\n",
        "# Print first few values of Part1StartTime\n",
        "print(survey_data.Part1StartTime.head())"
      ],
      "execution_count": 0,
      "outputs": [
        {
          "output_type": "stream",
          "text": [
            "0   2016-03-29 21:23:13\n",
            "1   2016-03-29 21:24:59\n",
            "2   2016-03-29 21:25:37\n",
            "3   2016-03-29 21:21:37\n",
            "4   2016-03-29 21:26:22\n",
            "Name: Part1StartTime, dtype: datetime64[ns]\n"
          ],
          "name": "stdout"
        }
      ]
    },
    {
      "cell_type": "code",
      "metadata": {
        "id": "EmLTKj4ytnYm",
        "colab_type": "code",
        "colab": {}
      },
      "source": [
        ""
      ],
      "execution_count": 0,
      "outputs": []
    },
    {
      "cell_type": "markdown",
      "metadata": {
        "id": "Q8NWK7eWZ5tX",
        "colab_type": "text"
      },
      "source": [
        "# Importing data from data bases\n",
        "\n",
        "\n",
        "query order\n",
        "\n",
        "1. SELECT\n",
        "2. AGGERATE FUNCTIONS\n",
        "3. FROM\n",
        "4. JOIN\n",
        "5. ON\n",
        "6. WHERE\n",
        "7. GROUP BY"
      ]
    },
    {
      "cell_type": "code",
      "metadata": {
        "id": "pojf7b1aaVzy",
        "colab_type": "code",
        "colab": {}
      },
      "source": [
        "# Connect to a database\n",
        "# Import sqlalchemy's create_engine() function\n",
        "from sqlalchemy import create_engine"
      ],
      "execution_count": 0,
      "outputs": []
    },
    {
      "cell_type": "code",
      "metadata": {
        "id": "nztLUKf6acx3",
        "colab_type": "code",
        "colab": {}
      },
      "source": [
        "# Create the database engine\n",
        "engine = create_engine('sqlite:///data.db')\n",
        "\n",
        "# Load weather data without any SQL query\n",
        "weather_data = pd.read_sql(\"weather\", engine)          # weather is the table name\n",
        "\n",
        "# View the first few rows of data\n",
        "print(weather_data.head())"
      ],
      "execution_count": 0,
      "outputs": []
    },
    {
      "cell_type": "code",
      "metadata": {
        "id": "mTPoOC2oatPI",
        "colab_type": "code",
        "colab": {}
      },
      "source": [
        "# Load weather data with SQL query\n",
        "query = \"\"\"\n",
        "SELECT *\n",
        "  FROM weather;\n",
        "\"\"\"\n",
        "\n",
        "# Load weather with the SQL query\n",
        "weather_data = pd.read_sql(query, engine)"
      ],
      "execution_count": 0,
      "outputs": []
    },
    {
      "cell_type": "code",
      "metadata": {
        "id": "serJ7jjoa7mG",
        "colab_type": "code",
        "colab": {}
      },
      "source": [
        "# query to get date, tmax, and tmin from weather\n",
        "query = \"\"\"\n",
        "SELECT date, \n",
        "       tmax, \n",
        "       tmin\n",
        "  FROM weather;\n",
        "\"\"\"\n",
        "\n",
        "# Make a data frame by passing query and engine to read_sql()\n",
        "temperatures_data = pd.read_sql(query,engine)"
      ],
      "execution_count": 0,
      "outputs": []
    },
    {
      "cell_type": "code",
      "metadata": {
        "id": "tLDXG-c-bCaJ",
        "colab_type": "code",
        "colab": {}
      },
      "source": [
        "# query to get records max temps <= 32 or snow >= 1\n",
        "query = \"\"\"\n",
        "SELECT *\n",
        "  FROM weather\n",
        "  WHERE tmax <= 32 \n",
        "  OR snow >= 1;\n",
        "\"\"\"\n",
        "\n",
        "# Query database and assign result to wintry_days\n",
        "winter_days = pd.read_sql(query,engine)"
      ],
      "execution_count": 0,
      "outputs": []
    },
    {
      "cell_type": "code",
      "metadata": {
        "id": "990zhOBKbQ4r",
        "colab_type": "code",
        "colab": {}
      },
      "source": [
        "# a query to get month and max tmax by month\n",
        "query = \"\"\"\n",
        "SELECT month, \n",
        "       MAX(tmax)\n",
        "  FROM weather \n",
        " GROUP BY month;\"\"\"\n",
        "\n",
        "# Get data frame of monthly weather stats\n",
        "weather_by_month = pd.read_sql(query, engine)"
      ],
      "execution_count": 0,
      "outputs": []
    },
    {
      "cell_type": "code",
      "metadata": {
        "id": "3H9n9TV4bjAT",
        "colab_type": "code",
        "colab": {}
      },
      "source": [
        "# Query to join weather to call records by date columns\n",
        "query = \"\"\"\n",
        "SELECT * \n",
        "  FROM hpd311calls                                 \n",
        "  JOIN weather\n",
        "  ON hpd311calls.created_date = weather.date;\n",
        "\"\"\"\n",
        "\n",
        "# Create data frame of joined tables\n",
        "calls_with_weather = pd.read_sql(query,engine)"
      ],
      "execution_count": 0,
      "outputs": []
    },
    {
      "cell_type": "markdown",
      "metadata": {
        "id": "LA6UvNSpcO_5",
        "colab_type": "text"
      },
      "source": [
        "# Import data from JSON and API"
      ]
    },
    {
      "cell_type": "code",
      "metadata": {
        "id": "qlZMxte0cTXC",
        "colab_type": "code",
        "colab": {}
      },
      "source": [
        "# Load pandas as pd\n",
        "import pandas as pd \n",
        "\n",
        "# Load the daily report to a data frame\n",
        "pop_in_shelters = pd.read_json('dhs_daily_report.json')\n",
        "\n",
        "# View summary stats about pop_in_shelters\n",
        "print(pop_in_shelters.describe())"
      ],
      "execution_count": 0,
      "outputs": []
    },
    {
      "cell_type": "code",
      "metadata": {
        "id": "z3c1PcCyow7Y",
        "colab_type": "code",
        "colab": {}
      },
      "source": [
        "import requests\n",
        "import pandas as pd\n",
        "\n",
        "\n",
        "# loading data from api\n",
        "api_url = \"https://api.yelp.com/v3/businesses/search\"\n",
        "\n",
        "\n",
        "# Set API parameters - The Yelp API requires the location parameter be set\n",
        "parameters = {'term': 'cafes',\n",
        "          \t  'location': 'NYC'}\n",
        "\n",
        "# Set request headers - The Yelp API documentation says \"To authenticate API calls with the API Key, set the Authorization HTTP header value as Bearer API_KEY\n",
        "api_key = 'mhmt6jn3SFPVC1u6pfwgHWQvsa1wmWvCpKRtFGRYlo4mzA14SisQiDjyygsGMV2Dm7tEsuwdC4TYSA0Ai_GQTjKf9d5s5XLSNfQqdg1oy7jcBBh1i7iQUZBujdA_XHYx'\n",
        "headers = {'Authorization': \"Bearer {}\".format(api_key)}\n",
        "\n",
        "# Get data about NYC cafes from the Yelp API\n",
        "response = requests.get(api_url, \n",
        "                headers=headers, \n",
        "                params=parameters)\n",
        "\n",
        "# Extract JSON data from the response\n",
        "data = response.json()"
      ],
      "execution_count": 0,
      "outputs": []
    },
    {
      "cell_type": "code",
      "metadata": {
        "id": "3qkmfHtGqEHg",
        "colab_type": "code",
        "colab": {}
      },
      "source": [
        "# Load data to a data frame\n",
        "cafes = pd.DataFrame(data['businesses'])\n",
        "\n",
        "# View the data's dtypes\n",
        "print(cafes.dtypes)"
      ],
      "execution_count": 0,
      "outputs": []
    }
  ]
}