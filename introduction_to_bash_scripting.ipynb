{
  "nbformat": 4,
  "nbformat_minor": 0,
  "metadata": {
    "colab": {
      "name": "introduction_to_bash_scripting.ipynb",
      "provenance": [],
      "authorship_tag": "ABX9TyPtxu8MR9M5+NqILtIXiB7R",
      "include_colab_link": true
    },
    "kernelspec": {
      "name": "python3",
      "display_name": "Python 3"
    }
  },
  "cells": [
    {
      "cell_type": "markdown",
      "metadata": {
        "id": "view-in-github",
        "colab_type": "text"
      },
      "source": [
        "<a href=\"https://colab.research.google.com/github/SurajKande/Pipelining/blob/master/introduction_to_bash_scripting.ipynb\" target=\"_parent\"><img src=\"https://colab.research.google.com/assets/colab-badge.svg\" alt=\"Open In Colab\"/></a>"
      ]
    },
    {
      "cell_type": "markdown",
      "metadata": {
        "id": "7LXXm-NJemF2",
        "colab_type": "text"
      },
      "source": [
        "##### important shell commands\n",
        "1. grep - filters input based on regex pattern matching \n",
        "2. cat - concatinates file contents line by line\n",
        "3. tail \\ head - gives the last -n lines \n"
      ]
    },
    {
      "cell_type": "markdown",
      "metadata": {
        "id": "IgSkM8zjkmpA",
        "colab_type": "text"
      },
      "source": [
        "Bash script anatomy\n",
        " \n",
        " * it usually begins with hash-bang ( # ) so the interpretor know its a bash script\n",
        "\n",
        " * the file extension is usually .sh\n",
        " \n",
        " * can be run using the command bash followed by the script name  "
      ]
    },
    {
      "cell_type": "code",
      "metadata": {
        "id": "Rj-1p8Y1kbOH",
        "colab_type": "code",
        "colab": {
          "base_uri": "https://localhost:8080/",
          "height": 34
        },
        "outputId": "7e8372a4-a2e8-4bb2-a4d2-5b6fa7baf89b"
      },
      "source": [
        "# %%shell - This is an entire cell interpreted as a shell script\n",
        "%%shell    \n",
        "\n",
        "echo \"hello world\""
      ],
      "execution_count": 2,
      "outputs": [
        {
          "output_type": "stream",
          "text": [
            "hello world\n"
          ],
          "name": "stdout"
        },
        {
          "output_type": "execute_result",
          "data": {
            "text/plain": [
              ""
            ]
          },
          "metadata": {
            "tags": []
          },
          "execution_count": 2
        }
      ]
    },
    {
      "cell_type": "code",
      "metadata": {
        "id": "1hdKTs9dd_E-",
        "colab_type": "code",
        "colab": {}
      },
      "source": [
        "# Using arguments in Bash scripts\n",
        "%%shell\n",
        "\n",
        "# Echo the first and second ARGV arguments\n",
        "+echo $1 \n",
        "+echo $2\n",
        "\n",
        "# Echo out the entire ARGV array\n",
        "+echo $@\n",
        "\n",
        "# Echo out the size of ARGV\n",
        "+echo $#"
      ],
      "execution_count": 0,
      "outputs": []
    },
    {
      "cell_type": "code",
      "metadata": {
        "id": "N9Z-sKq1vEc5",
        "colab_type": "code",
        "colab": {
          "base_uri": "https://localhost:8080/",
          "height": 34
        },
        "outputId": "5a68b454-601c-4f09-f176-17359ea27d70"
      },
      "source": [
        "# Using variables in Bash\n",
        "%%shell\n",
        "\n",
        "# Create the required variable\n",
        "yourname=\"suraj\"\n",
        "\n",
        "# Print out the assigned name (Help fix this error!)\n",
        "echo \"Hi there $yourname, welcome to the website!\""
      ],
      "execution_count": 7,
      "outputs": [
        {
          "output_type": "stream",
          "text": [
            "Hi there suraj, welcome to the website!\n"
          ],
          "name": "stdout"
        },
        {
          "output_type": "execute_result",
          "data": {
            "text/plain": [
              ""
            ]
          },
          "metadata": {
            "tags": []
          },
          "execution_count": 7
        }
      ]
    },
    {
      "cell_type": "code",
      "metadata": {
        "id": "uAJeh6P-vKwE",
        "colab_type": "code",
        "colab": {
          "base_uri": "https://localhost:8080/",
          "height": 34
        },
        "outputId": "9d845c3e-ddae-43d6-c782-b48cabf4ac12"
      },
      "source": [
        "# Shell within a shell\n",
        "\n",
        "%%shell\n",
        "\n",
        "echo \"Right now it is `date`\""
      ],
      "execution_count": 8,
      "outputs": [
        {
          "output_type": "stream",
          "text": [
            "Right now it is Thu Apr 30 10:59:41 UTC 2020\n"
          ],
          "name": "stdout"
        },
        {
          "output_type": "execute_result",
          "data": {
            "text/plain": [
              ""
            ]
          },
          "metadata": {
            "tags": []
          },
          "execution_count": 8
        }
      ]
    },
    {
      "cell_type": "code",
      "metadata": {
        "id": "6vn5lV42v69Q",
        "colab_type": "code",
        "colab": {}
      },
      "source": [
        "# Converting Fahrenheit to Celsius   -- working with numeric variables\n",
        "%%shell\n",
        "\n",
        "# Get first ARGV into variable\n",
        "temp_f=$1\n",
        "\n",
        "# Subtract 32\n",
        "+temp_f2=$(echo \"scale=2; $temp_f - 32\" | bc)\n",
        "\n",
        "# Multiply by 5/9\n",
        "+temp_c=$(echo \"scale=2; $temp_f2 * 5 / 9\" | bc)\n",
        "\n",
        "# Print the temp\n",
        "+echo $temp_c"
      ],
      "execution_count": 0,
      "outputs": []
    },
    {
      "cell_type": "code",
      "metadata": {
        "id": "VRmCJ9U1xFV2",
        "colab_type": "code",
        "colab": {}
      },
      "source": [
        "# Create a normal array with the mentioned elements\n",
        "%%shell\n",
        "\n",
        "capital_cities=(\"Sydney\", \"New York\", \"Paris\")"
      ],
      "execution_count": 0,
      "outputs": []
    },
    {
      "cell_type": "code",
      "metadata": {
        "id": "_HWad2cjxHhE",
        "colab_type": "code",
        "colab": {}
      },
      "source": [
        "%%shell\n",
        "# Create a normal array with the mentioned elements using the declare method\n",
        "declare -a capital_cities\n",
        "\n",
        "# Add (append) the elements\n",
        "capital_cities+=(\"Sydney\")\n",
        "capital_cities+=(\"New York\")\n",
        "capital_cities+=(\"Paris\")"
      ],
      "execution_count": 0,
      "outputs": []
    },
    {
      "cell_type": "code",
      "metadata": {
        "id": "Xslm7wgexRvh",
        "colab_type": "code",
        "colab": {
          "base_uri": "https://localhost:8080/",
          "height": 50
        },
        "outputId": "d2dcdd53-b487-407e-8a14-aed52340f8cb"
      },
      "source": [
        "%%shell\n",
        "\n",
        "capital_cities=(\"Sydney\" \"New York\" \"Paris\")\n",
        "\n",
        "# Print out the entire array\n",
        "echo ${capital_cities[@]}\n",
        "\n",
        "# Print out the array length\n",
        "echo ${#capital_cities[@]}"
      ],
      "execution_count": 11,
      "outputs": [
        {
          "output_type": "stream",
          "text": [
            "Sydney New York Paris\n",
            "3\n"
          ],
          "name": "stdout"
        },
        {
          "output_type": "execute_result",
          "data": {
            "text/plain": [
              ""
            ]
          },
          "metadata": {
            "tags": []
          },
          "execution_count": 11
        }
      ]
    },
    {
      "cell_type": "code",
      "metadata": {
        "id": "z57Gm6ztyBb6",
        "colab_type": "code",
        "colab": {}
      },
      "source": [
        "%%shell\n",
        "# Associative arrays allow you to index using words rather than numbers, which can be important for ease of inputting and accessing properties\n",
        "# Create empty associative array\n",
        "declare A car\n",
        "\n",
        "# Add the key-value pairs\n",
        "car[company]=\"Maruthi\"\n",
        "car[model_name]=\"swift\"\n",
        "car[type]=\"LXI\""
      ],
      "execution_count": 0,
      "outputs": []
    },
    {
      "cell_type": "code",
      "metadata": {
        "id": "nImfJV1Qyl2g",
        "colab_type": "code",
        "colab": {}
      },
      "source": [
        ""
      ],
      "execution_count": 0,
      "outputs": []
    }
  ]
}